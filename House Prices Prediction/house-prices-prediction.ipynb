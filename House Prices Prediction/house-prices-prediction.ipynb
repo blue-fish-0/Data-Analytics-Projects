{
 "cells": [
  {
   "cell_type": "markdown",
   "metadata": {
    "_cell_guid": "b1076dfc-b9ad-4769-8c92-a6c4dae69d19",
    "_uuid": "8f2839f25d086af736a60e9eeb907d3b93b6e0e5"
   },
   "source": [
    "# Background Information"
   ]
  },
  {
   "cell_type": "markdown",
   "metadata": {},
   "source": [
    "When an analyst estimates the price of a house, they need to consider many predictors, including its location, size, and construction quality. Luckily, machine learning models exist to do the work for them. In this project, I trained and evaluated regression models to predict house prices. I used a dataset from OpenIntro of 2930 houses in Ames, Iowa with 79 predictors. To download the dataset and read the predictor descriptions, [click here](https://www.openintro.org/data/index.php?data=ames). "
   ]
  },
  {
   "cell_type": "markdown",
   "metadata": {},
   "source": [
    "# Import Libraries and Data"
   ]
  },
  {
   "cell_type": "code",
   "execution_count": 277,
   "metadata": {},
   "outputs": [],
   "source": [
    "import numpy as np\n",
    "import pandas as pd\n",
    "import matplotlib.pyplot as plt\n",
    "import seaborn as sns\n",
    "sns.set_theme()\n",
    "\n",
    "# Data processing\n",
    "from sklearn.model_selection import train_test_split\n",
    "from sklearn.neighbors import LocalOutlierFactor\n",
    "from sklearn.preprocessing import StandardScaler\n",
    "from sklearn.preprocessing import PolynomialFeatures\n",
    "from sklearn.impute import KNNImputer\n",
    "from sklearn.pipeline import Pipeline\n",
    "from sklearn.pipeline import make_pipeline\n",
    "\n",
    "# Machine learning models\n",
    "from sklearn.linear_model import LinearRegression\n",
    "from sklearn.linear_model import Lasso\n",
    "\n",
    "# Model evaluation \n",
    "from sklearn.model_selection import GridSearchCV\n",
    "from sklearn.model_selection import cross_validate\n",
    "from sklearn.metrics import r2_score"
   ]
  },
  {
   "cell_type": "code",
   "execution_count": 278,
   "metadata": {},
   "outputs": [
    {
     "name": "stdout",
     "output_type": "stream",
     "text": [
      "X size:  (2930, 81)\n"
     ]
    }
   ],
   "source": [
    "# Use the Order column (unique identifier for each house) as the row index\n",
    "houses_data = pd.read_csv('ames_houses_data.csv', index_col=\"Order\")\n",
    "X = houses_data.drop(columns=[\"price\"])\n",
    "y = houses_data.loc[:, \"price\"]\n",
    "print(\"X size: \", X.shape)"
   ]
  },
  {
   "cell_type": "markdown",
   "metadata": {},
   "source": [
    "For simplicity, I only used countinuous, discrete, and ordinal predictors to train my models. Hence, I removed all of the nominal predictors from the dataset."
   ]
  },
  {
   "cell_type": "code",
   "execution_count": 279,
   "metadata": {},
   "outputs": [
    {
     "name": "stdout",
     "output_type": "stream",
     "text": [
      "X size after removing unwanted predictors:  (2930, 34)\n"
     ]
    }
   ],
   "source": [
    "X = X.select_dtypes(include=\"number\")\n",
    "\n",
    "# Manually remove nominal columns encoded with integers\n",
    "X.drop(columns=[\"MS.SubClass\", \"Mo.Sold\", \"PID\"], inplace=True) \n",
    "\n",
    "print(\"X size after removing unwanted predictors: \", X.shape)"
   ]
  },
  {
   "cell_type": "markdown",
   "metadata": {},
   "source": [
    "I then split the dataset into a training set (80%) and a test set (20%). "
   ]
  },
  {
   "cell_type": "code",
   "execution_count": 280,
   "metadata": {},
   "outputs": [
    {
     "name": "stdout",
     "output_type": "stream",
     "text": [
      "X_train size:  (2344, 34)\n",
      "X_test size:  (586, 34)\n"
     ]
    }
   ],
   "source": [
    "X_train, X_test, y_train, y_test = train_test_split(X, y, test_size=0.2, random_state=42)\n",
    "\n",
    "print(\"X_train size: \", X_train.shape)\n",
    "print(\"X_test size: \", X_test.shape)"
   ]
  },
  {
   "cell_type": "markdown",
   "metadata": {},
   "source": [
    "# Exploratory Data Analysis"
   ]
  },
  {
   "cell_type": "markdown",
   "metadata": {},
   "source": [
    "## Distributions of the variables"
   ]
  },
  {
   "cell_type": "code",
   "execution_count": 281,
   "metadata": {},
   "outputs": [
    {
     "data": {
      "image/png": "[encoded data removed]",
      "text/plain": [
       "<Figure size 640x480 with 1 Axes>"
      ]
     },
     "metadata": {},
     "output_type": "display_data"
    }
   ],
   "source": [
    "# Distribution of house prices (the target)\n",
    "sns.histplot(y_train)\n",
    "plt.title(\"The distribution of house prices is positively skewed\")\n",
    "plt.xlabel(\"House price ($US)\")\n",
    "plt.ylabel(\"No. of houses\")\n",
    "plt.show()"
   ]
  },
  {
   "cell_type": "markdown",
   "metadata": {},
   "source": [
    "The distribution of house prices is positively skewed due to a few very expensive houses."
   ]
  },
  {
   "cell_type": "code",
   "execution_count": 282,
   "metadata": {},
   "outputs": [],
   "source": [
    "# Distributions of the predictors. Commented out since it takes a while to run.\n",
    "# X_train.hist(figsize=(15, 17))\n",
    "# plt.show()"
   ]
  },
  {
   "cell_type": "markdown",
   "metadata": {},
   "source": [
    "![](predictor_histograms.png)"
   ]
  },
  {
   "cell_type": "markdown",
   "metadata": {},
   "source": [
    "Many of the predictors (Pool.Area, Screen.Porch) are 0 for most of the houses. For example:\n",
    "- **Pool.Area**: Pool area \n",
    "- **Screen.Porch**: Screen porch area\n",
    "\n",
    "This is because most houses do not have these amenities."
   ]
  },
  {
   "cell_type": "markdown",
   "metadata": {},
   "source": [
    "## Correlations between variables"
   ]
  },
  {
   "cell_type": "markdown",
   "metadata": {},
   "source": [
    "Due to the large number of predictors, a correlation heatmap would be hard to read. Hence, I did not include one."
   ]
  },
  {
   "cell_type": "code",
   "execution_count": 283,
   "metadata": {},
   "outputs": [],
   "source": [
    "correlation_matrix = pd.concat([X_train, y_train], axis = 1).corr()\n",
    "lower_triangle_mask = np.tril(np.ones(correlation_matrix.shape), k = -1).astype(bool)\n",
    "# Replace all values above the lower triangle with NaN\n",
    "correlation_matrix = correlation_matrix.where(lower_triangle_mask)"
   ]
  },
  {
   "cell_type": "markdown",
   "metadata": {},
   "source": [
    "### Correlations with the target (house price)"
   ]
  },
  {
   "cell_type": "code",
   "execution_count": 284,
   "metadata": {},
   "outputs": [
    {
     "name": "stdout",
     "output_type": "stream",
     "text": [
      "The 5 predictors that were most positively correlated with house price were:\n",
      "Overall.Qual     0.795298\n",
      "area             0.698315\n",
      "Garage.Cars      0.644304\n",
      "Garage.Area      0.633106\n",
      "Total.Bsmt.SF    0.612256\n",
      "Name: price, dtype: float64\n",
      "\n",
      "The predictor that was most negatively correlated with house price was:\n",
      "Enclosed.Porch   -0.130722\n",
      "Name: price, dtype: float64\n"
     ]
    }
   ],
   "source": [
    "most_positive = correlation_matrix.loc[\"price\"].sort_values(ascending=False)[0:5]\n",
    "print(f\"The {len(most_positive)} predictors that were most positively correlated with house price were:\\n\", \n",
    "      most_positive, \"\\n\", sep=\"\")\n",
    "\n",
    "most_negative = correlation_matrix.loc[\"price\"].sort_values(ascending=True)[0:1]\n",
    "print(f\"The predictor that was most negatively correlated with house price was:\\n\", \n",
    "       most_negative, sep=\"\")"
   ]
  },
  {
   "cell_type": "markdown",
   "metadata": {},
   "source": [
    "- **Overall.Qual**: Quality of the construction materials and workmanship on a scale of 1 to 10. \n",
    "- **area**: The total living area above the ground. \n",
    "- **Garage.Cars**: No. of cars that can fit in the garage. \n",
    "- **Total.Bsmt.SF**: The area of the basement.\n",
    "- **Garage.Area**: Area of the garage. (Notice that is is highly correlated with GarageCars). \n",
    "\n",
    "There were no quantitative predictors that were significantly negatively correlated with the house price."
   ]
  },
  {
   "cell_type": "markdown",
   "metadata": {},
   "source": [
    "### Correlations between predictors"
   ]
  },
  {
   "cell_type": "code",
   "execution_count": 285,
   "metadata": {},
   "outputs": [
    {
     "name": "stdout",
     "output_type": "stream",
     "text": [
      "The 5 predictor pairs that were most positively correlated were:\n",
      "Garage.Area    Garage.Cars      0.883871\n",
      "Garage.Yr.Blt  Year.Built       0.824690\n",
      "X1st.Flr.SF    Total.Bsmt.SF    0.813946\n",
      "TotRms.AbvGrd  area             0.806434\n",
      "price          Overall.Qual     0.795298\n",
      "dtype: float64\n",
      "\n",
      "The predictor pair that was most negatively correlated was:\n",
      "Bsmt.Unf.SF  BsmtFin.SF.1   -0.47883\n",
      "dtype: float64\n"
     ]
    }
   ],
   "source": [
    "most_positive = correlation_matrix.stack().sort_values(ascending=False)[0:5]\n",
    "print(f\"The {len(most_positive)} predictor pairs that were most positively correlated were:\\n\", \n",
    "      most_positive, \"\\n\", sep=\"\")\n",
    "\n",
    "most_negative = correlation_matrix.stack().sort_values(ascending=True)[0:1]\n",
    "print(f\"The predictor pair that was most negatively correlated was:\\n\", \n",
    "       most_negative, sep=\"\")"
   ]
  },
  {
   "cell_type": "markdown",
   "metadata": {
    "tags": []
   },
   "source": [
    "# Training Set Procesesing"
   ]
  },
  {
   "cell_type": "markdown",
   "metadata": {},
   "source": [
    "Each step in the data processing can be represented by a scikit-learn transformer object. These transfromers can be assembled into a Pipeline object, which can be used to apply all of the data processing steps to new data in one method call."
   ]
  },
  {
   "cell_type": "markdown",
   "metadata": {},
   "source": [
    "## Data Standardization"
   ]
  },
  {
   "cell_type": "markdown",
   "metadata": {},
   "source": [
    "I will use scikit-learn's StandardScaler transformer to standardize each predictor variable to a mean of 0 and a standard deviation of 1. This will improve the training speed and performance of the regression models."
   ]
  },
  {
   "cell_type": "markdown",
   "metadata": {
    "tags": []
   },
   "source": [
    "## Handling missing data"
   ]
  },
  {
   "cell_type": "markdown",
   "metadata": {},
   "source": [
    "Regression models cannot be trained on data with missing values. The simplest solution is to delete data points with missing values. But data points with a few missing predictor values still have a lot of information in their other predictor values. So a better option is to replace missing data with a best guess based on other data in the dataset (data imputation). \n",
    "\n",
    "I will use scikit-learn's KNNImputer transformer to impute missing data. For each data point with missing predictor values, k-Nearest Neighbors:\n",
    "1. Identifies the k data points that are closest to it in the predictor space.\n",
    "2. Takes the averages of their predictor values and uses them to impute the missing values.  "
   ]
  },
  {
   "cell_type": "markdown",
   "metadata": {
    "tags": []
   },
   "source": [
    "## Data Processing Pipeline"
   ]
  },
  {
   "cell_type": "code",
   "execution_count": 286,
   "metadata": {
    "tags": []
   },
   "outputs": [],
   "source": [
    "data_processing = make_pipeline(StandardScaler(), KNNImputer())"
   ]
  },
  {
   "cell_type": "markdown",
   "metadata": {},
   "source": [
    "## Removing High-Leverage Points"
   ]
  },
  {
   "cell_type": "markdown",
   "metadata": {},
   "source": [
    "High-leverage points are far away from other data points in the predictor space. They can worsen the fit on the rest of the data points. I will use scikit-learn's LocalOutlierFactor estimator to identify high leverage points, then I will remove them. Technically, this should be a step in the data processing pipeline, but I do not know how to do that. \n",
    "\n",
    "Furthermore, if the model is asked to predict the price of a house that is a high-leverage point, it should not return a prediction, as it was not trained on similar houses."
   ]
  },
  {
   "cell_type": "code",
   "execution_count": 287,
   "metadata": {},
   "outputs": [],
   "source": [
    "local_outlier = make_pipeline(data_processing, LocalOutlierFactor()) \n",
    "pred_outlier_train = local_outlier.fit_predict(X_train)\n",
    "\n",
    "not_an_outlier = (pred_outlier_train == 1)\n",
    "X_train = X_train[not_an_outlier]\n",
    "y_train = y_train[not_an_outlier]"
   ]
  },
  {
   "cell_type": "markdown",
   "metadata": {},
   "source": [
    "# Linear Regresssion"
   ]
  },
  {
   "cell_type": "markdown",
   "metadata": {},
   "source": [
    "One of the simplest models we can use to predict the house prices is multiple linear regression. I will now train a multiple linear regression model on the entire training set then fit it on the training set to obtain a residual plot."
   ]
  },
  {
   "cell_type": "code",
   "execution_count": 288,
   "metadata": {},
   "outputs": [],
   "source": [
    "linear_regression = make_pipeline(data_processing, LinearRegression()) \n",
    "linear_train = linear_regression.fit(X_train, y_train)\n",
    "pred_y_train = pd.Series(linear_train.predict(X_train), \n",
    "                         index=X_train.index)\n",
    "train_residuals = y_train - pred_y_train"
   ]
  },
  {
   "cell_type": "code",
   "execution_count": 289,
   "metadata": {},
   "outputs": [
    {
     "data": {
      "image/png": "[encoded data removed]",
      "text/plain": [
       "<Figure size 640x480 with 1 Axes>"
      ]
     },
     "metadata": {},
     "output_type": "display_data"
    }
   ],
   "source": [
    "sns.regplot(x=pred_y_train, y=train_residuals, \n",
    "            scatter_kws={\"alpha\": 0.2},\n",
    "            lowess=True) #locally weighted linear regression \n",
    "\n",
    "plt.title(\"Multiple linear regression underfits the training data\")\n",
    "plt.xlabel(\"Predicted house price\")\n",
    "plt.ylabel(\"Residual ($US)\")\n",
    "plt.show()"
   ]
  },
  {
   "cell_type": "markdown",
   "metadata": {},
   "source": [
    "The residual plot is curved, which suggests that linear regression underfits the training data."
   ]
  },
  {
   "cell_type": "markdown",
   "metadata": {},
   "source": [
    "Since the test set is reserved for the evaluation of our final model, I will use cross-validation to evaluate the multiple linear regression model. Since I will be evaluating multiple regression models, I will create a function to calculate the regression scores for each."
   ]
  },
  {
   "cell_type": "code",
   "execution_count": 290,
   "metadata": {},
   "outputs": [],
   "source": [
    "def regression_scores(regression_pipeline):\n",
    "    reg_scores = cross_validate(regression_pipeline, \n",
    "                                X_train, y_train, \n",
    "                                scoring=\"r2\",\n",
    "                                return_train_score=True,\n",
    "                                return_estimator=True)\n",
    "    print(\"Mean R2 score on training sets: %0.2f (%0.2f SD)\" % \n",
    "         (reg_scores[\"train_score\"].mean(), reg_scores[\"train_score\"].std()))\n",
    "    print(\"Mean R2 score on validation sets: %0.2f (%0.2f SD)\" % \n",
    "         (reg_scores[\"test_score\"].mean(), reg_scores[\"test_score\"].std()))  "
   ]
  },
  {
   "cell_type": "code",
   "execution_count": 291,
   "metadata": {},
   "outputs": [
    {
     "name": "stdout",
     "output_type": "stream",
     "text": [
      "Mean R2 score on training sets: 0.87 (0.00 SD)\n",
      "Mean R2 score on validation sets: 0.87 (0.01 SD)\n"
     ]
    }
   ],
   "source": [
    "regression_scores(linear_regression)"
   ]
  },
  {
   "cell_type": "markdown",
   "metadata": {},
   "source": [
    "In other words, 87% of the variation in the validation set house prices is explained by the linear regression model. The R2 score on the training sets and validation sets are very similar, suggesting the model may be underfitting."
   ]
  },
  {
   "cell_type": "markdown",
   "metadata": {
    "tags": []
   },
   "source": [
    "# Polynomial Regression"
   ]
  },
  {
   "cell_type": "markdown",
   "metadata": {
    "tags": []
   },
   "source": [
    "To increase model complexity, I will add second-order predictors that are powers and products of the original predictors."
   ]
  },
  {
   "cell_type": "code",
   "execution_count": 292,
   "metadata": {
    "tags": []
   },
   "outputs": [],
   "source": [
    "quadratic_regression = \\\n",
    "make_pipeline(data_processing, \n",
    "              PolynomialFeatures(degree=2),\n",
    "              LinearRegression())"
   ]
  },
  {
   "cell_type": "code",
   "execution_count": 293,
   "metadata": {},
   "outputs": [
    {
     "name": "stdout",
     "output_type": "stream",
     "text": [
      "Number of coefficients: 614\n"
     ]
    }
   ],
   "source": [
    "quadratic_train = quadratic_regression.fit(X_train, y_train)\n",
    "quadratic_model = quadratic_train.named_steps[\"linearregression\"]\n",
    "num_coef = len(quadratic_model.coef_[quadratic_model.coef_ != 0])\n",
    "print(\"Number of coefficients: %i\" % num_coef)"
   ]
  },
  {
   "cell_type": "markdown",
   "metadata": {},
   "source": [
    "This is a lot of predictors compared to the number of data points (around 2000), so we expect the model to overfit."
   ]
  },
  {
   "cell_type": "code",
   "execution_count": 294,
   "metadata": {},
   "outputs": [
    {
     "name": "stdout",
     "output_type": "stream",
     "text": [
      "Mean R2 score on training sets: 0.95 (0.00 SD)\n",
      "Mean R2 score on validation sets: -1322086071841991688192.00 (1830808602440061943808.00 SD)\n"
     ]
    }
   ],
   "source": [
    "regression_scores(quadratic_regression)"
   ]
  },
  {
   "cell_type": "markdown",
   "metadata": {},
   "source": [
    "Since the R2 score is much higher for the training sets than the validation sets (The more negative the score, the worse the fit), the model is overfitting."
   ]
  },
  {
   "cell_type": "markdown",
   "metadata": {
    "tags": []
   },
   "source": [
    "# Lasso Regression"
   ]
  },
  {
   "cell_type": "markdown",
   "metadata": {
    "tags": []
   },
   "source": [
    "Lasso regression restricts the magnitudes of the regression coefficients to prevent overfitting. It can also set coefficients to 0, effectively removing predictors from the model. The amount of restriction is controlled by a hyperparameter ($\\alpha$). \n",
    "\n",
    "To find a good value for $\\alpha$, we will use GridSearchCV() to train and evaluate models with different $\\alpha$ values. (I started with a very wide search range (0.1 - 100_000) then narrowed it down.)"
   ]
  },
  {
   "cell_type": "code",
   "execution_count": 295,
   "metadata": {},
   "outputs": [
    {
     "name": "stdout",
     "output_type": "stream",
     "text": [
      "Best alpha value: 490\n"
     ]
    }
   ],
   "source": [
    "param_grid = {'alpha': [460, 470, 480, 490, 500]}\n",
    "lasso_search = make_pipeline(data_processing,\n",
    "                             PolynomialFeatures(degree=2),\n",
    "                             GridSearchCV(Lasso(), param_grid, cv=5)) \n",
    "\n",
    "lasso_search_train = lasso_search.fit(X_train, y_train)\n",
    "lasso_search_model = lasso_search_train.named_steps[\"gridsearchcv\"]\n",
    "best_alpha = lasso_search_model.best_params_[\"alpha\"]\n",
    "print(\"Best alpha value: %i\" % best_alpha)"
   ]
  },
  {
   "cell_type": "code",
   "execution_count": 296,
   "metadata": {},
   "outputs": [],
   "source": [
    "lasso_regression = make_pipeline(data_processing, \n",
    "                                 PolynomialFeatures(degree=2),\n",
    "                                 Lasso(alpha=best_alpha)) "
   ]
  },
  {
   "cell_type": "code",
   "execution_count": 297,
   "metadata": {
    "tags": []
   },
   "outputs": [
    {
     "name": "stdout",
     "output_type": "stream",
     "text": [
      "Number of coefficients: 139\n"
     ]
    }
   ],
   "source": [
    "lasso_train = lasso_regression.fit(X_train, y_train)\n",
    "lasso_model = lasso_train.named_steps[\"lasso\"]\n",
    "num_coef = len(lasso_model.coef_[lasso_model.coef_ != 0])\n",
    "print(\"Number of coefficients: %i\" % num_coef)"
   ]
  },
  {
   "cell_type": "markdown",
   "metadata": {
    "tags": []
   },
   "source": [
    "Lasso regression removed 78% of the predictors in the quadratic regression."
   ]
  },
  {
   "cell_type": "code",
   "execution_count": 298,
   "metadata": {},
   "outputs": [
    {
     "name": "stdout",
     "output_type": "stream",
     "text": [
      "Mean R2 score on training sets: 0.93 (0.00 SD)\n",
      "Mean R2 score on validation sets: 0.91 (0.01 SD)\n"
     ]
    }
   ],
   "source": [
    "regression_scores(lasso_regression)"
   ]
  },
  {
   "cell_type": "markdown",
   "metadata": {},
   "source": [
    "The R2 score on the validation set (0.91) is the highest out of all the models tested so far, indicating that this is the best model so far."
   ]
  },
  {
   "cell_type": "markdown",
   "metadata": {},
   "source": [
    "# Final Model Evaluation"
   ]
  },
  {
   "cell_type": "markdown",
   "metadata": {},
   "source": [
    "I will now train the quadratic lasso model using the entire training set and evaluate it using the test set. Hopefully, the R2 score will increase since the model now has more data to use for training. "
   ]
  },
  {
   "cell_type": "code",
   "execution_count": 299,
   "metadata": {},
   "outputs": [
    {
     "name": "stdout",
     "output_type": "stream",
     "text": [
      "Test set R2 score: 0.86\n"
     ]
    }
   ],
   "source": [
    "pred_y_test = pd.Series(lasso_train.predict(X_test), \n",
    "                        index=X_test.index)\n",
    "\n",
    "print(\"Test set R2 score: %0.2f\" % r2_score(y_test, pred_y_test))"
   ]
  },
  {
   "cell_type": "markdown",
   "metadata": {},
   "source": [
    "Unfortunately, the test set score is significantly lower than the average validation set score (0.91). This could be due to outliers in the test set which the data processing pipeline did not remove because I could not figure out how to add outlier removal as a pipeline step."
   ]
  }
 ],
 "metadata": {
  "kernelspec": {
   "display_name": "Python 3 (ipykernel)",
   "language": "python",
   "name": "python3"
  },
  "language_info": {
   "codemirror_mode": {
    "name": "ipython",
    "version": 3
   },
   "file_extension": ".py",
   "mimetype": "text/x-python",
   "name": "python",
   "nbconvert_exporter": "python",
   "pygments_lexer": "ipython3",
   "version": "3.10.9"
  },
  "toc-autonumbering": true,
  "toc-showcode": false,
  "toc-showmarkdowntxt": false,
  "toc-showtags": false
 },
 "nbformat": 4,
 "nbformat_minor": 4
}
